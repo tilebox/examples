{
 "cells": [
  {
   "cell_type": "markdown",
   "id": "cdd78cad-07ad-4ab8-9fbc-c978d38feb09",
   "metadata": {},
   "source": [
    "<img src=\"https://storage.googleapis.com/tbx-web-assets-2bad228/logos/tilebox-horizontal-color.svg\" alt=\"Tilebox\" width=\"200\"/>\n",
    "\n",
    "# Workflow Orchestrator\n",
    "\n",
    "This is a demo showcasing a minimal workflow orchestrator using the [Tilebox](https://tilebox.com) SDKs.\n",
    "\n",
    "## Prerequisites\n",
    "\n",
    "✅ Fill the .env file with your API key and cluster slug, as described in the [README](README.md).  \n",
    "✅ Install the required dependencies with `uv sync`."
   ]
  },
  {
   "cell_type": "code",
   "execution_count": 1,
   "id": "1302c847-5221-47ab-b708-b8a6fdff411c",
   "metadata": {},
   "outputs": [],
   "source": [
    "from tilebox.workflows import Client, ExecutionContext, Task\n",
    "from tilebox.workflows.interceptors import print_executions"
   ]
  },
  {
   "cell_type": "markdown",
   "id": "62965a0e-4631-4f4a-bc56-5afe412c4f58",
   "metadata": {},
   "source": [
    "---\n",
    "\n",
    "## Your first Task\n",
    "\n",
    "A task is a class derived from `tilebox.workflows.Task`, which then has to implement an `execute` method, which will be called when the task is run.\n",
    "\n",
    "Deriving from `Task` also makes the class a `dataclass`, which is why we can specify the task arguments just as we do for `dataclasses`.\n",
    "This is the mechanism that allows us to serialize and deserialize tasks, and therefore transmit them between different parallel task runners."
   ]
  },
  {
   "cell_type": "code",
   "execution_count": 2,
   "id": "7bbbdaaa-ba45-415f-914a-2f6ef8c55f17",
   "metadata": {},
   "outputs": [],
   "source": [
    "class MyFirstTask(Task):\n",
    "    greeting: str\n",
    "\n",
    "    def execute(self, context: ExecutionContext) -> None:\n",
    "        print(f\"{self.greeting} from my first task!\")"
   ]
  },
  {
   "cell_type": "markdown",
   "id": "d9206546-960e-4773-b0df-ca15995480c0",
   "metadata": {},
   "source": [
    "### Running as Job\n",
    "\n",
    "#### Submitting a job\n",
    "\n",
    "In order to run a Task, we need to submit it as part of a job:\n",
    "\n",
    "📒 Jobs are submitted to logical clusters, like the one you created at [https://console.tilebox.com/workflows/clusters](https://console.tilebox.com/workflows/clusters) and saved to the .env file."
   ]
  },
  {
   "cell_type": "code",
   "execution_count": 3,
   "id": "564dd380",
   "metadata": {},
   "outputs": [],
   "source": [
    "import dotenv\n",
    "dotenv.load_dotenv()"
   ]
  },
  {
   "cell_type": "code",
   "execution_count": 4,
   "id": "a5f80102-da88-4622-a594-c0cf44270fe6",
   "metadata": {},
   "outputs": [],
   "source": [
    "import os\n",
    "cluster = os.environ['TILEBOX_CLUSTER']\n",
    "\n",
    "client = Client()  # a workflow client for https://api.tilebox.com\n",
    "job_client = client.jobs()"
   ]
  },
  {
   "cell_type": "code",
   "execution_count": 5,
   "id": "05d5c402-8c93-44d9-af0d-8420fd0013f2",
   "metadata": {},
   "outputs": [],
   "source": [
    "job = job_client.submit(\"my-first-job\", MyFirstTask(\"Hello Tilebox\"), cluster=cluster)"
   ]
  },
  {
   "cell_type": "markdown",
   "id": "09da6e3c-9e24-4318-8015-c0b878049ccd",
   "metadata": {},
   "source": [
    "#### Actually running it\n",
    "\n",
    "However, so far nothing has happened. This is because while we have submitted the Task, there is no `Task Runner` capable of executing tasks of type `MyFirstTask`.\n",
    "But we can change that, by instantiating a runner and letting it run until no more tasks are available:"
   ]
  },
  {
   "cell_type": "code",
   "execution_count": 6,
   "id": "b97a7cb4-bb63-4621-a3b1-115a49a0c6a7",
   "metadata": {},
   "outputs": [],
   "source": [
    "runner = client.runner(cluster, tasks=[MyFirstTask])  # this runner can run tasks of type MyFirstTask"
   ]
  },
  {
   "cell_type": "code",
   "execution_count": 7,
   "id": "c8336ade-dd61-4840-9b7d-55abf27de4aa",
   "metadata": {},
   "outputs": [
    {
     "name": "stdout",
     "output_type": "stream",
     "text": [
      "Hello Tilebox from my first task!\n"
     ]
    }
   ],
   "source": [
    "runner.run_all()  # query for runnable tasks, run them, then return"
   ]
  },
  {
   "cell_type": "markdown",
   "id": "52a5702b",
   "metadata": {},
   "source": [
    "---\n",
    "\n",
    "## Workflows with Subtasks\n",
    "\n",
    "So far our `MyFirstTask` has only be mildly interesting. Let's make it a bit more interesting by adding **subtasks**. So let's implement another workflow, one capable of downloading a list of images. We'll call it `DownloadImages`. \n",
    "\n",
    "We'll also\n",
    "- configure [logging](https://docs.tilebox.com/workflows/observability/logging#logging)\n",
    "- [visualize](https://docs.tilebox.com/workflows/concepts/jobs#visualization) the dynamically generated DAG\n",
    "- use a [Tilebox Cache](https://docs.tilebox.com/workflows/caches#caches) to store the downloaded images"
   ]
  },
  {
   "cell_type": "code",
   "execution_count": 16,
   "id": "0bc399ed",
   "metadata": {},
   "outputs": [],
   "source": [
    "import logging\n",
    "import httpx\n",
    "\n",
    "from tilebox.workflows.observability.logging import configure_console_logging, get_logger\n",
    "\n",
    "configure_console_logging()\n",
    "logger = get_logger(level=logging.INFO)\n",
    "\n",
    "class DownloadImages(Task):\n",
    "    images: dict[str, str]\n",
    "\n",
    "    def execute(self, context: ExecutionContext) -> None:\n",
    "        \"\"\"Download a list of images and save them to a cache\"\"\"\n",
    "\n",
    "        logger.info(\"Starting an image download workflow.\", extra={\"n_images\": len(self.images)})\n",
    "\n",
    "        for image_name, url in self.images.items():\n",
    "            # instead of calling the download function now here directly\n",
    "            # we instead schedule it as a subtask like this:\n",
    "            context.submit_subtask(DownloadImage(image_name, url))\n",
    "\n",
    "        # this is how the task will be displayed in visualizations:\n",
    "        context.current_task.display = f\"DownloadImages(n={len(self.images)})\"\n",
    "\n",
    "\n",
    "class DownloadImage(Task):\n",
    "    name: str\n",
    "    url: str\n",
    "\n",
    "    def execute(self, context: ExecutionContext) -> None:\n",
    "        \"\"\"Download an image and save it to a cache\"\"\"\n",
    "\n",
    "        logger.info(\"Downloading an image.\", extra={\"image_name\": self.name, \"url\": self.url})\n",
    "        img = httpx.get(self.url, follow_redirects=True).content\n",
    "        context.job_cache[self.name] = img\n",
    "\n",
    "        context.current_task.display = f\"DownloadImage('{self.name}')\""
   ]
  },
  {
   "cell_type": "markdown",
   "id": "04f2807f",
   "metadata": {},
   "source": [
    "### Let's start a download job"
   ]
  },
  {
   "cell_type": "code",
   "execution_count": 17,
   "id": "d47a95ed-0790-4d4f-9c58-b19406df4d6c",
   "metadata": {},
   "outputs": [],
   "source": [
    "images = {\n",
    "    \"man_with_camera.jpg\": \"https://picsum.photos/id/91/1200/760\",\n",
    "    \"library.jpg\": \"https://picsum.photos/id/444/1200/760\",\n",
    "    \"office_desk.jpg\": \"https://picsum.photos/id/445/1200/760\",\n",
    "}"
   ]
  },
  {
   "cell_type": "code",
   "execution_count": 18,
   "id": "11dcae7d-ac49-485a-9c0c-b4291093380c",
   "metadata": {},
   "outputs": [],
   "source": [
    "job = job_client.submit(\"download-images\", DownloadImages(images), cluster=cluster)"
   ]
  },
  {
   "cell_type": "markdown",
   "id": "d654c94f-d865-4d0a-9831-e58ca5162704",
   "metadata": {},
   "source": [
    "and run it"
   ]
  },
  {
   "cell_type": "code",
   "execution_count": 19,
   "id": "02deeeab-e3de-4593-8d28-4bb64c47206e",
   "metadata": {},
   "outputs": [
    {
     "name": "stdout",
     "output_type": "stream",
     "text": [
      "Executing DownloadImages(images={'man_with_camera.jpg': 'https://picsum.photos/id/91/1200/760', 'library.jpg': 'https://picsum.photos/id/444/1200/760', 'office_desk.jpg': 'https://picsum.photos/id/445/1200/760'})\n",
      "\u001b[38;5;241m2025-03-13 14:54:59,100\u001b[0m\u001b[92m INFO \u001b[0mStarting an image download workflow.\n",
      "Executing DownloadImage(name='man_with_camera.jpg', url='https://picsum.photos/id/91/1200/760')\n",
      "\u001b[38;5;241m2025-03-13 14:55:00,034\u001b[0m\u001b[92m INFO \u001b[0mDownloading an image.\n",
      "Executing DownloadImage(name='library.jpg', url='https://picsum.photos/id/444/1200/760')\n",
      "\u001b[38;5;241m2025-03-13 14:55:00,589\u001b[0m\u001b[92m INFO \u001b[0mDownloading an image.\n",
      "Executing DownloadImage(name='office_desk.jpg', url='https://picsum.photos/id/445/1200/760')\n",
      "\u001b[38;5;241m2025-03-13 14:55:00,979\u001b[0m\u001b[92m INFO \u001b[0mDownloading an image.\n"
     ]
    }
   ],
   "source": [
    "\n",
    "from tilebox.workflows.cache import LocalFileSystemCache\n",
    "\n",
    "runner = client.runner(\n",
    "    cluster, tasks=[DownloadImages, DownloadImage],\n",
    "    cache=LocalFileSystemCache()\n",
    ")  # this runner can run tasks of type DownloadImages and DownloadImage\n",
    "runner.add_interceptor(print_executions)\n",
    "runner.run_all()"
   ]
  },
  {
   "cell_type": "markdown",
   "id": "14b88f7e",
   "metadata": {},
   "source": [
    "### Job visualization"
   ]
  },
  {
   "cell_type": "code",
   "execution_count": 22,
   "id": "04850ed3",
   "metadata": {},
   "outputs": [
    {
     "data": {
      "text/html": [
       "<?xml version=\"1.0\" encoding=\"utf-8\"?><svg xmlns=\"http://www.w3.org/2000/svg\" xmlns:xlink=\"http://www.w3.org/1999/xlink\" data-d2-version=\"v0.6.9-HEAD\" preserveAspectRatio=\"xMinYMin meet\" viewBox=\"0 0 1113 244\"><svg class=\"d2-3887551032 d2-svg\" width=\"1113\" height=\"244\" viewBox=\"-6 -6 1113 244\"><rect x=\"-6.000000\" y=\"-6.000000\" width=\"1113.000000\" height=\"244.000000\" rx=\"0.000000\" fill=\"#ffffff\" stroke-width=\"0\" /><style type=\"text/css\"><![CDATA[\n",
       ".d2-3887551032 .text-bold {\n",
       "\tfont-family: \"d2-3887551032-font-bold\";\n",
       "}\n",
       "@font-face {\n",
       "\tfont-family: d2-3887551032-font-bold;\n",
       "\tsrc: url(\"data:application/font-woff;base64,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\");\n",
       "}\n",
       ".sketch-overlay-bright {\n",
       "\tfill: url(#streaks-bright-d2-3887551032);\n",
       "\tmix-blend-mode: darken;\n",
       "}]]></style><style type=\"text/css\"><![CDATA[.shape {\n",
       "  shape-rendering: geometricPrecision;\n",
       "  stroke-linejoin: round;\n",
       "}\n",
       ".connection {\n",
       "  stroke-linecap: round;\n",
       "  stroke-linejoin: round;\n",
       "}\n",
       ".blend {\n",
       "  mix-blend-mode: multiply;\n",
       "  opacity: 0.5;\n",
       "}\n",
       "\n",
       "\t\t.d2-3887551032 .fill-N1{fill:#0A0F25;}\n",
       "\t\t.d2-3887551032 .fill-N2{fill:#676C7E;}\n",
       "\t\t.d2-3887551032 .fill-N3{fill:#9499AB;}\n",
       "\t\t.d2-3887551032 .fill-N4{fill:#CFD2DD;}\n",
       "\t\t.d2-3887551032 .fill-N5{fill:#DEE1EB;}\n",
       "\t\t.d2-3887551032 .fill-N6{fill:#EEF1F8;}\n",
       "\t\t.d2-3887551032 .fill-N7{fill:#FFFFFF;}\n",
       "\t\t.d2-3887551032 .fill-B1{fill:#0D32B2;}\n",
       "\t\t.d2-3887551032 .fill-B2{fill:#0D32B2;}\n",
       "\t\t.d2-3887551032 .fill-B3{fill:#E3E9FD;}\n",
       "\t\t.d2-3887551032 .fill-B4{fill:#E3E9FD;}\n",
       "\t\t.d2-3887551032 .fill-B5{fill:#EDF0FD;}\n",
       "\t\t.d2-3887551032 .fill-B6{fill:#F7F8FE;}\n",
       "\t\t.d2-3887551032 .fill-AA2{fill:#4A6FF3;}\n",
       "\t\t.d2-3887551032 .fill-AA4{fill:#EDF0FD;}\n",
       "\t\t.d2-3887551032 .fill-AA5{fill:#F7F8FE;}\n",
       "\t\t.d2-3887551032 .fill-AB4{fill:#EDF0FD;}\n",
       "\t\t.d2-3887551032 .fill-AB5{fill:#F7F8FE;}\n",
       "\t\t.d2-3887551032 .stroke-N1{stroke:#0A0F25;}\n",
       "\t\t.d2-3887551032 .stroke-N2{stroke:#676C7E;}\n",
       "\t\t.d2-3887551032 .stroke-N3{stroke:#9499AB;}\n",
       "\t\t.d2-3887551032 .stroke-N4{stroke:#CFD2DD;}\n",
       "\t\t.d2-3887551032 .stroke-N5{stroke:#DEE1EB;}\n",
       "\t\t.d2-3887551032 .stroke-N6{stroke:#EEF1F8;}\n",
       "\t\t.d2-3887551032 .stroke-N7{stroke:#FFFFFF;}\n",
       "\t\t.d2-3887551032 .stroke-B1{stroke:#0D32B2;}\n",
       "\t\t.d2-3887551032 .stroke-B2{stroke:#0D32B2;}\n",
       "\t\t.d2-3887551032 .stroke-B3{stroke:#E3E9FD;}\n",
       "\t\t.d2-3887551032 .stroke-B4{stroke:#E3E9FD;}\n",
       "\t\t.d2-3887551032 .stroke-B5{stroke:#EDF0FD;}\n",
       "\t\t.d2-3887551032 .stroke-B6{stroke:#F7F8FE;}\n",
       "\t\t.d2-3887551032 .stroke-AA2{stroke:#4A6FF3;}\n",
       "\t\t.d2-3887551032 .stroke-AA4{stroke:#EDF0FD;}\n",
       "\t\t.d2-3887551032 .stroke-AA5{stroke:#F7F8FE;}\n",
       "\t\t.d2-3887551032 .stroke-AB4{stroke:#EDF0FD;}\n",
       "\t\t.d2-3887551032 .stroke-AB5{stroke:#F7F8FE;}\n",
       "\t\t.d2-3887551032 .background-color-N1{background-color:#0A0F25;}\n",
       "\t\t.d2-3887551032 .background-color-N2{background-color:#676C7E;}\n",
       "\t\t.d2-3887551032 .background-color-N3{background-color:#9499AB;}\n",
       "\t\t.d2-3887551032 .background-color-N4{background-color:#CFD2DD;}\n",
       "\t\t.d2-3887551032 .background-color-N5{background-color:#DEE1EB;}\n",
       "\t\t.d2-3887551032 .background-color-N6{background-color:#EEF1F8;}\n",
       "\t\t.d2-3887551032 .background-color-N7{background-color:#FFFFFF;}\n",
       "\t\t.d2-3887551032 .background-color-B1{background-color:#0D32B2;}\n",
       "\t\t.d2-3887551032 .background-color-B2{background-color:#0D32B2;}\n",
       "\t\t.d2-3887551032 .background-color-B3{background-color:#E3E9FD;}\n",
       "\t\t.d2-3887551032 .background-color-B4{background-color:#E3E9FD;}\n",
       "\t\t.d2-3887551032 .background-color-B5{background-color:#EDF0FD;}\n",
       "\t\t.d2-3887551032 .background-color-B6{background-color:#F7F8FE;}\n",
       "\t\t.d2-3887551032 .background-color-AA2{background-color:#4A6FF3;}\n",
       "\t\t.d2-3887551032 .background-color-AA4{background-color:#EDF0FD;}\n",
       "\t\t.d2-3887551032 .background-color-AA5{background-color:#F7F8FE;}\n",
       "\t\t.d2-3887551032 .background-color-AB4{background-color:#EDF0FD;}\n",
       "\t\t.d2-3887551032 .background-color-AB5{background-color:#F7F8FE;}\n",
       "\t\t.d2-3887551032 .color-N1{color:#0A0F25;}\n",
       "\t\t.d2-3887551032 .color-N2{color:#676C7E;}\n",
       "\t\t.d2-3887551032 .color-N3{color:#9499AB;}\n",
       "\t\t.d2-3887551032 .color-N4{color:#CFD2DD;}\n",
       "\t\t.d2-3887551032 .color-N5{color:#DEE1EB;}\n",
       "\t\t.d2-3887551032 .color-N6{color:#EEF1F8;}\n",
       "\t\t.d2-3887551032 .color-N7{color:#FFFFFF;}\n",
       "\t\t.d2-3887551032 .color-B1{color:#0D32B2;}\n",
       "\t\t.d2-3887551032 .color-B2{color:#0D32B2;}\n",
       "\t\t.d2-3887551032 .color-B3{color:#E3E9FD;}\n",
       "\t\t.d2-3887551032 .color-B4{color:#E3E9FD;}\n",
       "\t\t.d2-3887551032 .color-B5{color:#EDF0FD;}\n",
       "\t\t.d2-3887551032 .color-B6{color:#F7F8FE;}\n",
       "\t\t.d2-3887551032 .color-AA2{color:#4A6FF3;}\n",
       "\t\t.d2-3887551032 .color-AA4{color:#EDF0FD;}\n",
       "\t\t.d2-3887551032 .color-AA5{color:#F7F8FE;}\n",
       "\t\t.d2-3887551032 .color-AB4{color:#EDF0FD;}\n",
       "\t\t.d2-3887551032 .color-AB5{color:#F7F8FE;}.appendix text.text{fill:#0A0F25}.md{--color-fg-default:#0A0F25;--color-fg-muted:#676C7E;--color-fg-subtle:#9499AB;--color-canvas-default:#FFFFFF;--color-canvas-subtle:#EEF1F8;--color-border-default:#0D32B2;--color-border-muted:#0D32B2;--color-neutral-muted:#EEF1F8;--color-accent-fg:#0D32B2;--color-accent-emphasis:#0D32B2;--color-attention-subtle:#676C7E;--color-danger-fg:red;}.sketch-overlay-B1{fill:url(#streaks-darker-d2-3887551032);mix-blend-mode:lighten}.sketch-overlay-B2{fill:url(#streaks-darker-d2-3887551032);mix-blend-mode:lighten}.sketch-overlay-B3{fill:url(#streaks-bright-d2-3887551032);mix-blend-mode:darken}.sketch-overlay-B4{fill:url(#streaks-bright-d2-3887551032);mix-blend-mode:darken}.sketch-overlay-B5{fill:url(#streaks-bright-d2-3887551032);mix-blend-mode:darken}.sketch-overlay-B6{fill:url(#streaks-bright-d2-3887551032);mix-blend-mode:darken}.sketch-overlay-AA2{fill:url(#streaks-dark-d2-3887551032);mix-blend-mode:overlay}.sketch-overlay-AA4{fill:url(#streaks-bright-d2-3887551032);mix-blend-mode:darken}.sketch-overlay-AA5{fill:url(#streaks-bright-d2-3887551032);mix-blend-mode:darken}.sketch-overlay-AB4{fill:url(#streaks-bright-d2-3887551032);mix-blend-mode:darken}.sketch-overlay-AB5{fill:url(#streaks-bright-d2-3887551032);mix-blend-mode:darken}.sketch-overlay-N1{fill:url(#streaks-darker-d2-3887551032);mix-blend-mode:lighten}.sketch-overlay-N2{fill:url(#streaks-dark-d2-3887551032);mix-blend-mode:overlay}.sketch-overlay-N3{fill:url(#streaks-normal-d2-3887551032);mix-blend-mode:color-burn}.sketch-overlay-N4{fill:url(#streaks-normal-d2-3887551032);mix-blend-mode:color-burn}.sketch-overlay-N5{fill:url(#streaks-bright-d2-3887551032);mix-blend-mode:darken}.sketch-overlay-N6{fill:url(#streaks-bright-d2-3887551032);mix-blend-mode:darken}.sketch-overlay-N7{fill:url(#streaks-bright-d2-3887551032);mix-blend-mode:darken}.light-code{display: block}.dark-code{display: none}]]></style><defs><pattern id=\"streaks-bright-d2-3887551032\" x=\"0\" y=\"0\" width=\"100\" height=\"100\" patternUnits=\"userSpaceOnUse\">\n",
       "    <path fill=\"rgba(0, 0, 0, 0.1)\" fill-rule=\"evenodd\" clip-rule=\"evenodd\" d=\"M58.1193 0H58.1703L55.4939 2.67644L58.1193 0ZM45.7725 0H45.811L41.2851 4.61498L42.7191 3.29325L37.0824 8.92997L35.0554 10.9569L32.0719 13.9404L29.6229 16.5017L27.1738 19.0631L25.8089 20.2034L23.2195 22.6244L18.181 27.6068L23.8178 21.97L27.0615 18.9508L33.8666 11.9773L33.1562 12.5194L37.0262 8.87383L40.784 5.11602L38.0299 7.64561L45.7725 0ZM23.1079 0H23.108L21.5814 1.66688L20.3126 2.79534L23.1079 0ZM7.53869 0H7.54254L7.50005 0.035944L7.53869 0ZM2.49995 0H2.52362L0.900245 1.59971L2.49995 0ZM0 3.64398V3.60744L0.278386 3.36559L0 3.64398ZM0 18.6564V18.5398L0.67985 17.8416L3.4459 15.0755L1.15701 17.1333L2.78713 15.6022L6.01437 12.507L8.5168 9.87253L5.15803 13.2313L11.0357 7.25453L10.4926 7.89678L13.6868 4.7686L8.54982 9.90555L7.05177 11.5687L4.68087 13.9396L0.729379 17.8911L3.01827 15.8333L0 18.6564ZM0 69.2431V69.178L1.64651 67.4763L1.46347 67.7796L5.84063 63.4025L4.42167 64.9016L0 69.4007V69.3408L0.247596 68.9955L0 69.2431ZM2.51594 100H2.49238L5.19989 97.2925L7.70071 95.0162L12.8713 89.6772L12.3094 90.0707L15.288 87.3167L18.1542 84.4504L16.0269 86.3532L22.8752 79.6172L18.5364 84.0683L19.6435 83.0734L15.3441 87.3728L13.798 88.9189L11.5224 91.1945L9.66768 93.1615L7.81297 95.1285L6.74529 95.9716L4.75024 97.7983L2.51594 100ZM7.54255 100H7.5387L9.81396 97.884L8.46606 99.2189L7.54255 100ZM45.8189 100H45.7807L46.9912 98.8047L45.8189 100ZM58.1784 100H58.1272L62.2952 95.7511L66.1408 91.9055L63.0037 94.8115L65.2507 92.6635L69.7117 88.3346L73.2165 84.6977L68.5469 89.3673L76.7379 81.0773L75.9634 81.9509L80.3913 77.5889L73.2496 84.7307L71.1346 87.0107L67.8384 90.3069L62.3447 95.8006L65.4818 92.8947L61.2625 96.9159L58.1784 100ZM75.4277 100H75.229L82.1834 92.9039L81.3403 93.5787L86.0063 89.1371L90.5601 84.5833L87.2464 87.6725L98.0937 76.9375L91.1673 83.9761L92.8932 82.3625L86.0625 89.1933L83.6062 91.6496L79.9907 95.265L77.011 98.357L75.4277 100ZM100 18.5398V18.6563L99.9556 18.6979L95.8065 22.847L100 18.5398ZM100 3.60743V3.64398L99.6791 3.9649L99.2094 4.29428L100 3.60743ZM75.4201 0L74.0312 1.4412L72.401 2.84687L69.281 5.79854L63.1812 11.8422L70.0119 5.01151L73.919 1.32893L75.2214 0H75.4201ZM100 69.1858V69.2509L98.059 71.1919L100 69.1858ZM100 69.3486V69.4085L99.8414 69.5698L100 69.3486ZM41.9398 28.8254L53.6223 16.993L52.5215 18.2437L54.7428 16.0575L54.6875 16.0759L54.8008 16.0004L58.842 12.0231L54.9925 15.8726L55.1085 15.7953L54.898 16.0058L54.84 16.0251L48.6523 22.2128L45.6419 25.473L40.9389 30.1759L33.1007 38.0142L37.5866 33.878L31.558 39.6068L23.3278 47.837L33.0257 37.9393L38.5125 32.4525L34.0266 36.5887L37.2369 33.5283L43.6074 27.3576L48.6023 22.1628L41.9398 28.8254ZM41.0977 17.0531L39.718 18.2925L40.312 17.8388L41.0977 17.0531ZM36.875 20.3106L48.1601 7.88137L42.3438 13.7478L36.875 20.3106ZM35.7125 25.8109L34.3328 27.0503L34.9268 26.5966L35.7125 25.8109ZM17.7022 39.7534L19.0819 38.514L18.8092 38.7867L36.7575 21.8045L23.1569 35.3051L13.5771 43.7372L18.1448 39.4154L17.7022 39.7534ZM3.48102 28.9281L1.53562 30.8735L1.22228 31.0465L0.0765686 32.3326L1.60579 30.9437L2.57849 29.971L3.48102 28.9281ZM0.953463 26.2027L19.5702 7.58594L9.31575 18.6078L0.953463 26.2027ZM23.7175 12.11L17.9339 18.0875L21.4622 14.5592L20.8074 15.4725L28.1915 7.95918L30.4791 5.54232L23.4224 12.599L23.7175 12.11ZM43.4641 43.1538L40.7872 46.1552L42.4907 44.4517L42.3285 45.0465L45.8166 41.3421L46.8441 40.0983L43.4371 43.5053L43.4641 43.1538ZM1.32715 48.3271L8.0918 41.5625L4.3657 45.5674L1.32715 48.3271ZM11.1479 31.2556L11.5689 30.975L11.3584 31.1855L11.1479 31.2556ZM11.9898 27.4667L12.2003 27.2562L11.7793 27.5369L11.9898 27.4667ZM11.3585 34.5531L11.148 34.7636L10.9375 34.8338L11.3585 34.5531ZM72.929 28.5457L82.2965 19.0792L81.4043 20.0705L86.4597 15.0811L78.2983 23.2425L75.8697 25.8362L72.1029 29.603L65.8249 35.881L69.3934 32.5437L64.5858 37.1531L57.994 43.745L65.7754 35.8314L70.17 31.4369L66.6015 34.7742L69.1623 32.3125L74.2507 27.3562L78.2653 23.2095L72.929 28.5457ZM82.6674 1.83549L84.3245 0.31872L83.3724 1.27088L82.6674 1.83549ZM64.5872 16.1312L62.9301 17.648L63.6351 17.0834L64.5872 16.1312ZM70.868 9.85044L80.0048 1.1214L74.6221 6.47142L70.868 9.85044ZM90.2409 41.9448L70.7578 61.4279L79.5093 53.4795L90.2409 41.9448ZM91.8088 42.5434L95.3963 38.8357L95.2132 39.139L99.5904 34.7618L98.1714 36.261L93.5912 40.9214L93.9973 40.3549L91.8088 42.5434ZM94.331 12.8233L89.9853 17.1691L89.2853 17.5555L86.7259 20.4284L90.142 17.3258L92.3149 15.1529L94.331 12.8233ZM44.7972 62.3259L76.9824 30.1406L59.2542 49.1955L44.7972 62.3259ZM77.1482 40.321L70.1709 47.5323L70 47.6463L70.0895 47.6164L68.1916 49.5779L70.185 47.5846L70.2105 47.5761L70.421 47.3656L70.37 47.3996L73.6557 44.1139L72.6416 45.5283L84.0768 33.893L87.6194 30.1502L76.6913 41.0783L77.1482 40.321ZM50.5355 34.3137L72.6617 12.1875L60.4955 25.3084L50.5355 34.3137ZM70.2104 44.0681L70.6314 43.7875L70.4209 43.998L70.2104 44.0681ZM71.263 40.0687L70.842 40.3494L71.0525 40.2792L71.263 40.0687ZM55.1084 12.4355L55.3189 12.225L54.8979 12.5056L55.1084 12.4355ZM48.8718 15.5785L60.2075 4.70496L49.4056 15.4006L48.8718 15.5785ZM23.7636 57.4491L29.9099 51.5854L26.1656 55.6123L27.2361 54.8244L23.435 58.6255L22.0681 59.9924L20.0562 62.0042L18.5082 63.8349L16.9601 65.6656L15.8328 66.2277L13.9315 67.7051L10.4821 71.0132L14.2832 67.2121L16.6775 65.383L21.1113 60.5253L20.477 60.7357L23.2937 58.4842L25.8277 55.9502L23.7636 57.4491ZM48.3825 74.1824L44.8832 77.8523L46.9145 75.8211L45.4748 77.4881L43.4493 79.2862L42.4082 80.1568L43.9215 79.0414L42.2487 80.7143L39.3752 83.8151L41.8844 81.3059L43.8473 79.6842L42.334 80.7995L44.7237 78.4098L46.1576 76.976L46.9713 75.8779L50.078 72.7713L48.1093 74.6262L48.3825 74.1824ZM29.2877 62.9906L29.0772 63.2011L28.8667 63.2713L29.2877 62.9906ZM29.7088 59.4823L29.9193 59.2719L29.4983 59.5525L29.7088 59.4823ZM29.0772 66.5687L28.8667 66.7792L28.6562 66.8494L29.0772 66.5687ZM22.9729 68.748L23.1834 68.5375L22.7624 68.8181L22.9729 68.748ZM3.8147e-05 91.7593L13.2499 79.1355L6.5001 86.2595L3.8147e-05 91.7593ZM16.0685 87.9974L17.1375 87.0687L16.5382 87.668L16.0685 87.9974ZM21.7869 79.3344L20.7179 80.263L21.1876 79.9337L21.7869 79.3344ZM12.3607 95.0755L13.4298 94.1469L12.8304 94.7462L12.3607 95.0755ZM42.7176 59.3801L43.2789 58.8187L43.0684 59.1696L42.7877 59.4502L42.2966 59.801L42.5772 59.3801H42.7176ZM26.3124 49.3152L24.3599 51.2676L23.996 51.3918L22.8956 52.732L24.4798 51.3875L25.456 50.4113L26.3124 49.3152ZM39.0689 63.3097L38.5777 63.6606L39.56 62.6782L39.0689 63.3097ZM20.3574 55.8032L19.3751 56.7856L19.8662 56.4347L20.3574 55.8032ZM39.9297 64.195L41.5504 62.3779L41.534 62.5907L43.5967 60.528L42.9746 61.2811L40.8628 63.5238L40.961 63.1637L39.9297 64.195ZM22.3921 55.457L21.3998 56.5696L22.0313 55.9381L21.9711 56.1587L23.2642 54.7854L23.6451 54.3243L22.3821 55.5873L22.3921 55.457ZM40.6473 92.4498L45.0485 88.0485L43.0066 90.4079L40.806 92.6085L37.3463 95.7507L39.9384 92.8412L40.6473 92.4498ZM18.5042 48.7973L11.5457 55.7558L10.4249 56.3746L6.32684 60.9746L11.7967 56.0067L15.2759 52.5275L18.5042 48.7973ZM32.7113 78.139L31.1131 79.7372L30.8432 79.8668L29.9145 80.9358L31.1833 79.8074L31.9823 79.0083L32.7113 78.139ZM21.7577 93.9525L31.2855 84.0344L30.8324 84.8777L42.4999 73.2102L38.7408 77.2295L26.5552 89.6753L27.5914 88.1187L21.7577 93.9525ZM98.5132 90.0591L89.9224 97.9224L93.5769 94.9953L98.5132 90.0591ZM97.8456 80.2105L99.5027 78.6937L98.5506 79.6459L97.8456 80.2105ZM88.5656 56.4599L78.9205 65.7009L82.1262 63.3036L78.1413 67.2885L73.7522 70.8692L74.7195 70.5082L67.717 78.117L63.992 81.0336L58.0146 87.011L63.4289 81.7988L66.3887 79.4454L68.1212 78.5213L70.5757 75.6625L73.0302 72.8038L76.194 69.64L78.3434 67.4906L84.3208 61.5132L82.6575 62.7723L88.5656 56.4599ZM85.1893 67.0375L83.7304 68.356L84.3561 67.8707L85.1893 67.0375ZM90.7969 58.2022L99.2725 50.5418L94.4317 55.3826L90.7969 58.2022ZM79.377 76.2172L77.9182 77.5357L78.5438 77.0504L79.377 76.2172ZM59.4922 91.7253L56.4011 94.1231L60.0049 90.8659L63.6087 87.6087L59.4922 91.7253ZM63.8833 75.4153L46 92.3896L49.6884 89.1193L53.3767 85.8491L63.8833 75.4153ZM71.6063 55.0765L69.6609 57.0219L69.3475 57.1949L68.2018 58.481L69.731 57.0921L70.7037 56.1194L71.6063 55.0765ZM55.1405 71.6857L61.4131 65.4131L57.958 69.1267L55.1405 71.6857ZM65.8396 69.4497L61.7138 73.7138L64.2308 71.1968L63.7637 71.8484L69.0313 66.4886L70.6632 64.7645L65.6292 69.7985L65.8396 69.4497ZM53.0034 65.4955L58.2258 59.8914L58.0558 60.4431L64.5517 53.9472L62.5136 56.2398L55.7841 63.2238L56.2513 62.2475L53.0034 65.4955ZM97.0997 71.2032L79.6514 88.6515L86.7697 80.814L97.0997 71.2032ZM35.1848 56.2513L31.93 59.9006L34.0012 57.8294L33.804 58.5527L38.0451 54.0485L39.2945 52.5361L35.1519 56.6787L35.1848 56.2513ZM66.8712 26.2471L78.1907 14.3099L77.7244 15.394L91.6784 1.4399L87.233 6.29715L72.7096 21.2323L73.8482 19.2701L66.8712 26.2471ZM28.0473 68.2068L20.4355 76.375L25.1695 71.641L24.4884 73.0639L34.297 62.8844L37.2675 59.5429L27.7995 69.0109L28.0473 68.2068ZM8.94067 39.5658L14.1631 33.9617L13.993 34.5134L20.4889 28.0175L18.4509 30.3101L11.7213 37.2941L12.1886 36.3178L8.94067 39.5658ZM99.7403 26L88 37.7404L93.2735 32.9508L99.7403 26ZM1.93388 8.08743L4.77765 5.04974L4.67856 5.34275L8.20743 1.81388L7.09578 3.05481L3.4355 6.84437L3.69832 6.32299L1.93388 8.08743ZM54.4485 44.211L48.5985 50.061L47.6563 50.5813L44.211 54.4485L48.8095 50.272L51.7345 47.347L54.4485 44.211Z\" />\n",
       "</pattern>\n",
       "<pattern id=\"streaks-normal-d2-3887551032\" x=\"0\" y=\"0\" width=\"100\" height=\"100\" patternUnits=\"userSpaceOnUse\">\n",
       "    <path fill=\"rgba(0, 0, 0, 0.16)\" fill-rule=\"evenodd\" clip-rule=\"evenodd\" d=\"M58.1193 0H58.1703L55.4939 2.67644L58.1193 0ZM45.7725 0H45.811L41.2851 4.61498L42.7191 3.29325L37.0824 8.92997L35.0554 10.9569L32.0719 13.9404L29.6229 16.5017L27.1738 19.0631L25.8089 20.2034L23.2195 22.6244L18.181 27.6068L23.8178 21.97L27.0615 18.9508L33.8666 11.9773L33.1562 12.5194L37.0262 8.87383L40.784 5.11602L38.0299 7.64561L45.7725 0ZM23.1079 0H23.108L21.5814 1.66688L20.3126 2.79534L23.1079 0ZM7.53869 0H7.54254L7.50005 0.035944L7.53869 0ZM2.49995 0H2.52362L0.900245 1.59971L2.49995 0ZM0 3.64398V3.60744L0.278386 3.36559L0 3.64398ZM0 18.6564V18.5398L0.67985 17.8416L3.4459 15.0755L1.15701 17.1333L2.78713 15.6022L6.01437 12.507L8.5168 9.87253L5.15803 13.2313L11.0357 7.25453L10.4926 7.89678L13.6868 4.7686L8.54982 9.90555L7.05177 11.5687L4.68087 13.9396L0.729379 17.8911L3.01827 15.8333L0 18.6564ZM0 69.2431V69.178L1.64651 67.4763L1.46347 67.7796L5.84063 63.4025L4.42167 64.9016L0 69.4007V69.3408L0.247596 68.9955L0 69.2431ZM2.51594 100H2.49238L5.19989 97.2925L7.70071 95.0162L12.8713 89.6772L12.3094 90.0707L15.288 87.3167L18.1542 84.4504L16.0269 86.3532L22.8752 79.6172L18.5364 84.0683L19.6435 83.0734L15.3441 87.3728L13.798 88.9189L11.5224 91.1945L9.66768 93.1615L7.81297 95.1285L6.74529 95.9716L4.75024 97.7983L2.51594 100ZM7.54255 100H7.5387L9.81396 97.884L8.46606 99.2189L7.54255 100ZM45.8189 100H45.7807L46.9912 98.8047L45.8189 100ZM58.1784 100H58.1272L62.2952 95.7511L66.1408 91.9055L63.0037 94.8115L65.2507 92.6635L69.7117 88.3346L73.2165 84.6977L68.5469 89.3673L76.7379 81.0773L75.9634 81.9509L80.3913 77.5889L73.2496 84.7307L71.1346 87.0107L67.8384 90.3069L62.3447 95.8006L65.4818 92.8947L61.2625 96.9159L58.1784 100ZM75.4277 100H75.229L82.1834 92.9039L81.3403 93.5787L86.0063 89.1371L90.5601 84.5833L87.2464 87.6725L98.0937 76.9375L91.1673 83.9761L92.8932 82.3625L86.0625 89.1933L83.6062 91.6496L79.9907 95.265L77.011 98.357L75.4277 100ZM100 18.5398V18.6563L99.9556 18.6979L95.8065 22.847L100 18.5398ZM100 3.60743V3.64398L99.6791 3.9649L99.2094 4.29428L100 3.60743ZM75.4201 0L74.0312 1.4412L72.401 2.84687L69.281 5.79854L63.1812 11.8422L70.0119 5.01151L73.919 1.32893L75.2214 0H75.4201ZM100 69.1858V69.2509L98.059 71.1919L100 69.1858ZM100 69.3486V69.4085L99.8414 69.5698L100 69.3486ZM41.9398 28.8254L53.6223 16.993L52.5215 18.2437L54.7428 16.0575L54.6875 16.0759L54.8008 16.0004L58.842 12.0231L54.9925 15.8726L55.1085 15.7953L54.898 16.0058L54.84 16.0251L48.6523 22.2128L45.6419 25.473L40.9389 30.1759L33.1007 38.0142L37.5866 33.878L31.558 39.6068L23.3278 47.837L33.0257 37.9393L38.5125 32.4525L34.0266 36.5887L37.2369 33.5283L43.6074 27.3576L48.6023 22.1628L41.9398 28.8254ZM41.0977 17.0531L39.718 18.2925L40.312 17.8388L41.0977 17.0531ZM36.875 20.3106L48.1601 7.88137L42.3438 13.7478L36.875 20.3106ZM35.7125 25.8109L34.3328 27.0503L34.9268 26.5966L35.7125 25.8109ZM17.7022 39.7534L19.0819 38.514L18.8092 38.7867L36.7575 21.8045L23.1569 35.3051L13.5771 43.7372L18.1448 39.4154L17.7022 39.7534ZM3.48102 28.9281L1.53562 30.8735L1.22228 31.0465L0.0765686 32.3326L1.60579 30.9437L2.57849 29.971L3.48102 28.9281ZM0.953463 26.2027L19.5702 7.58594L9.31575 18.6078L0.953463 26.2027ZM23.7175 12.11L17.9339 18.0875L21.4622 14.5592L20.8074 15.4725L28.1915 7.95918L30.4791 5.54232L23.4224 12.599L23.7175 12.11ZM43.4641 43.1538L40.7872 46.1552L42.4907 44.4517L42.3285 45.0465L45.8166 41.3421L46.8441 40.0983L43.4371 43.5053L43.4641 43.1538ZM1.32715 48.3271L8.0918 41.5625L4.3657 45.5674L1.32715 48.3271ZM11.1479 31.2556L11.5689 30.975L11.3584 31.1855L11.1479 31.2556ZM11.9898 27.4667L12.2003 27.2562L11.7793 27.5369L11.9898 27.4667ZM11.3585 34.5531L11.148 34.7636L10.9375 34.8338L11.3585 34.5531ZM72.929 28.5457L82.2965 19.0792L81.4043 20.0705L86.4597 15.0811L78.2983 23.2425L75.8697 25.8362L72.1029 29.603L65.8249 35.881L69.3934 32.5437L64.5858 37.1531L57.994 43.745L65.7754 35.8314L70.17 31.4369L66.6015 34.7742L69.1623 32.3125L74.2507 27.3562L78.2653 23.2095L72.929 28.5457ZM82.6674 1.83549L84.3245 0.31872L83.3724 1.27088L82.6674 1.83549ZM64.5872 16.1312L62.9301 17.648L63.6351 17.0834L64.5872 16.1312ZM70.868 9.85044L80.0048 1.1214L74.6221 6.47142L70.868 9.85044ZM90.2409 41.9448L70.7578 61.4279L79.5093 53.4795L90.2409 41.9448ZM91.8088 42.5434L95.3963 38.8357L95.2132 39.139L99.5904 34.7618L98.1714 36.261L93.5912 40.9214L93.9973 40.3549L91.8088 42.5434ZM94.331 12.8233L89.9853 17.1691L89.2853 17.5555L86.7259 20.4284L90.142 17.3258L92.3149 15.1529L94.331 12.8233ZM44.7972 62.3259L76.9824 30.1406L59.2542 49.1955L44.7972 62.3259ZM77.1482 40.321L70.1709 47.5323L70 47.6463L70.0895 47.6164L68.1916 49.5779L70.185 47.5846L70.2105 47.5761L70.421 47.3656L70.37 47.3996L73.6557 44.1139L72.6416 45.5283L84.0768 33.893L87.6194 30.1502L76.6913 41.0783L77.1482 40.321ZM50.5355 34.3137L72.6617 12.1875L60.4955 25.3084L50.5355 34.3137ZM70.2104 44.0681L70.6314 43.7875L70.4209 43.998L70.2104 44.0681ZM71.263 40.0687L70.842 40.3494L71.0525 40.2792L71.263 40.0687ZM55.1084 12.4355L55.3189 12.225L54.8979 12.5056L55.1084 12.4355ZM48.8718 15.5785L60.2075 4.70496L49.4056 15.4006L48.8718 15.5785ZM23.7636 57.4491L29.9099 51.5854L26.1656 55.6123L27.2361 54.8244L23.435 58.6255L22.0681 59.9924L20.0562 62.0042L18.5082 63.8349L16.9601 65.6656L15.8328 66.2277L13.9315 67.7051L10.4821 71.0132L14.2832 67.2121L16.6775 65.383L21.1113 60.5253L20.477 60.7357L23.2937 58.4842L25.8277 55.9502L23.7636 57.4491ZM48.3825 74.1824L44.8832 77.8523L46.9145 75.8211L45.4748 77.4881L43.4493 79.2862L42.4082 80.1568L43.9215 79.0414L42.2487 80.7143L39.3752 83.8151L41.8844 81.3059L43.8473 79.6842L42.334 80.7995L44.7237 78.4098L46.1576 76.976L46.9713 75.8779L50.078 72.7713L48.1093 74.6262L48.3825 74.1824ZM29.2877 62.9906L29.0772 63.2011L28.8667 63.2713L29.2877 62.9906ZM29.7088 59.4823L29.9193 59.2719L29.4983 59.5525L29.7088 59.4823ZM29.0772 66.5687L28.8667 66.7792L28.6562 66.8494L29.0772 66.5687ZM22.9729 68.748L23.1834 68.5375L22.7624 68.8181L22.9729 68.748ZM3.8147e-05 91.7593L13.2499 79.1355L6.5001 86.2595L3.8147e-05 91.7593ZM16.0685 87.9974L17.1375 87.0687L16.5382 87.668L16.0685 87.9974ZM21.7869 79.3344L20.7179 80.263L21.1876 79.9337L21.7869 79.3344ZM12.3607 95.0755L13.4298 94.1469L12.8304 94.7462L12.3607 95.0755ZM42.7176 59.3801L43.2789 58.8187L43.0684 59.1696L42.7877 59.4502L42.2966 59.801L42.5772 59.3801H42.7176ZM26.3124 49.3152L24.3599 51.2676L23.996 51.3918L22.8956 52.732L24.4798 51.3875L25.456 50.4113L26.3124 49.3152ZM39.0689 63.3097L38.5777 63.6606L39.56 62.6782L39.0689 63.3097ZM20.3574 55.8032L19.3751 56.7856L19.8662 56.4347L20.3574 55.8032ZM39.9297 64.195L41.5504 62.3779L41.534 62.5907L43.5967 60.528L42.9746 61.2811L40.8628 63.5238L40.961 63.1637L39.9297 64.195ZM22.3921 55.457L21.3998 56.5696L22.0313 55.9381L21.9711 56.1587L23.2642 54.7854L23.6451 54.3243L22.3821 55.5873L22.3921 55.457ZM40.6473 92.4498L45.0485 88.0485L43.0066 90.4079L40.806 92.6085L37.3463 95.7507L39.9384 92.8412L40.6473 92.4498ZM18.5042 48.7973L11.5457 55.7558L10.4249 56.3746L6.32684 60.9746L11.7967 56.0067L15.2759 52.5275L18.5042 48.7973ZM32.7113 78.139L31.1131 79.7372L30.8432 79.8668L29.9145 80.9358L31.1833 79.8074L31.9823 79.0083L32.7113 78.139ZM21.7577 93.9525L31.2855 84.0344L30.8324 84.8777L42.4999 73.2102L38.7408 77.2295L26.5552 89.6753L27.5914 88.1187L21.7577 93.9525ZM98.5132 90.0591L89.9224 97.9224L93.5769 94.9953L98.5132 90.0591ZM97.8456 80.2105L99.5027 78.6937L98.5506 79.6459L97.8456 80.2105ZM88.5656 56.4599L78.9205 65.7009L82.1262 63.3036L78.1413 67.2885L73.7522 70.8692L74.7195 70.5082L67.717 78.117L63.992 81.0336L58.0146 87.011L63.4289 81.7988L66.3887 79.4454L68.1212 78.5213L70.5757 75.6625L73.0302 72.8038L76.194 69.64L78.3434 67.4906L84.3208 61.5132L82.6575 62.7723L88.5656 56.4599ZM85.1893 67.0375L83.7304 68.356L84.3561 67.8707L85.1893 67.0375ZM90.7969 58.2022L99.2725 50.5418L94.4317 55.3826L90.7969 58.2022ZM79.377 76.2172L77.9182 77.5357L78.5438 77.0504L79.377 76.2172ZM59.4922 91.7253L56.4011 94.1231L60.0049 90.8659L63.6087 87.6087L59.4922 91.7253ZM63.8833 75.4153L46 92.3896L49.6884 89.1193L53.3767 85.8491L63.8833 75.4153ZM71.6063 55.0765L69.6609 57.0219L69.3475 57.1949L68.2018 58.481L69.731 57.0921L70.7037 56.1194L71.6063 55.0765ZM55.1405 71.6857L61.4131 65.4131L57.958 69.1267L55.1405 71.6857ZM65.8396 69.4497L61.7138 73.7138L64.2308 71.1968L63.7637 71.8484L69.0313 66.4886L70.6632 64.7645L65.6292 69.7985L65.8396 69.4497ZM53.0034 65.4955L58.2258 59.8914L58.0558 60.4431L64.5517 53.9472L62.5136 56.2398L55.7841 63.2238L56.2513 62.2475L53.0034 65.4955ZM97.0997 71.2032L79.6514 88.6515L86.7697 80.814L97.0997 71.2032ZM35.1848 56.2513L31.93 59.9006L34.0012 57.8294L33.804 58.5527L38.0451 54.0485L39.2945 52.5361L35.1519 56.6787L35.1848 56.2513ZM66.8712 26.2471L78.1907 14.3099L77.7244 15.394L91.6784 1.4399L87.233 6.29715L72.7096 21.2323L73.8482 19.2701L66.8712 26.2471ZM28.0473 68.2068L20.4355 76.375L25.1695 71.641L24.4884 73.0639L34.297 62.8844L37.2675 59.5429L27.7995 69.0109L28.0473 68.2068ZM8.94067 39.5658L14.1631 33.9617L13.993 34.5134L20.4889 28.0175L18.4509 30.3101L11.7213 37.2941L12.1886 36.3178L8.94067 39.5658ZM99.7403 26L88 37.7404L93.2735 32.9508L99.7403 26ZM1.93388 8.08743L4.77765 5.04974L4.67856 5.34275L8.20743 1.81388L7.09578 3.05481L3.4355 6.84437L3.69832 6.32299L1.93388 8.08743ZM54.4485 44.211L48.5985 50.061L47.6563 50.5813L44.211 54.4485L48.8095 50.272L51.7345 47.347L54.4485 44.211Z\" />\n",
       "</pattern>\n",
       "<pattern id=\"streaks-dark-d2-3887551032\" x=\"0\" y=\"0\" width=\"100\" height=\"100\" patternUnits=\"userSpaceOnUse\">\n",
       "    <path fill=\"rgba(0, 0, 0, 0.32)\" fill-rule=\"evenodd\" clip-rule=\"evenodd\" d=\"M58.1193 0H58.1703L55.4939 2.67644L58.1193 0ZM45.7725 0H45.811L41.2851 4.61498L42.7191 3.29325L37.0824 8.92997L35.0554 10.9569L32.0719 13.9404L29.6229 16.5017L27.1738 19.0631L25.8089 20.2034L23.2195 22.6244L18.181 27.6068L23.8178 21.97L27.0615 18.9508L33.8666 11.9773L33.1562 12.5194L37.0262 8.87383L40.784 5.11602L38.0299 7.64561L45.7725 0ZM23.1079 0H23.108L21.5814 1.66688L20.3126 2.79534L23.1079 0ZM7.53869 0H7.54254L7.50005 0.035944L7.53869 0ZM2.49995 0H2.52362L0.900245 1.59971L2.49995 0ZM0 3.64398V3.60744L0.278386 3.36559L0 3.64398ZM0 18.6564V18.5398L0.67985 17.8416L3.4459 15.0755L1.15701 17.1333L2.78713 15.6022L6.01437 12.507L8.5168 9.87253L5.15803 13.2313L11.0357 7.25453L10.4926 7.89678L13.6868 4.7686L8.54982 9.90555L7.05177 11.5687L4.68087 13.9396L0.729379 17.8911L3.01827 15.8333L0 18.6564ZM0 69.2431V69.178L1.64651 67.4763L1.46347 67.7796L5.84063 63.4025L4.42167 64.9016L0 69.4007V69.3408L0.247596 68.9955L0 69.2431ZM2.51594 100H2.49238L5.19989 97.2925L7.70071 95.0162L12.8713 89.6772L12.3094 90.0707L15.288 87.3167L18.1542 84.4504L16.0269 86.3532L22.8752 79.6172L18.5364 84.0683L19.6435 83.0734L15.3441 87.3728L13.798 88.9189L11.5224 91.1945L9.66768 93.1615L7.81297 95.1285L6.74529 95.9716L4.75024 97.7983L2.51594 100ZM7.54255 100H7.5387L9.81396 97.884L8.46606 99.2189L7.54255 100ZM45.8189 100H45.7807L46.9912 98.8047L45.8189 100ZM58.1784 100H58.1272L62.2952 95.7511L66.1408 91.9055L63.0037 94.8115L65.2507 92.6635L69.7117 88.3346L73.2165 84.6977L68.5469 89.3673L76.7379 81.0773L75.9634 81.9509L80.3913 77.5889L73.2496 84.7307L71.1346 87.0107L67.8384 90.3069L62.3447 95.8006L65.4818 92.8947L61.2625 96.9159L58.1784 100ZM75.4277 100H75.229L82.1834 92.9039L81.3403 93.5787L86.0063 89.1371L90.5601 84.5833L87.2464 87.6725L98.0937 76.9375L91.1673 83.9761L92.8932 82.3625L86.0625 89.1933L83.6062 91.6496L79.9907 95.265L77.011 98.357L75.4277 100ZM100 18.5398V18.6563L99.9556 18.6979L95.8065 22.847L100 18.5398ZM100 3.60743V3.64398L99.6791 3.9649L99.2094 4.29428L100 3.60743ZM75.4201 0L74.0312 1.4412L72.401 2.84687L69.281 5.79854L63.1812 11.8422L70.0119 5.01151L73.919 1.32893L75.2214 0H75.4201ZM100 69.1858V69.2509L98.059 71.1919L100 69.1858ZM100 69.3486V69.4085L99.8414 69.5698L100 69.3486ZM41.9398 28.8254L53.6223 16.993L52.5215 18.2437L54.7428 16.0575L54.6875 16.0759L54.8008 16.0004L58.842 12.0231L54.9925 15.8726L55.1085 15.7953L54.898 16.0058L54.84 16.0251L48.6523 22.2128L45.6419 25.473L40.9389 30.1759L33.1007 38.0142L37.5866 33.878L31.558 39.6068L23.3278 47.837L33.0257 37.9393L38.5125 32.4525L34.0266 36.5887L37.2369 33.5283L43.6074 27.3576L48.6023 22.1628L41.9398 28.8254ZM41.0977 17.0531L39.718 18.2925L40.312 17.8388L41.0977 17.0531ZM36.875 20.3106L48.1601 7.88137L42.3438 13.7478L36.875 20.3106ZM35.7125 25.8109L34.3328 27.0503L34.9268 26.5966L35.7125 25.8109ZM17.7022 39.7534L19.0819 38.514L18.8092 38.7867L36.7575 21.8045L23.1569 35.3051L13.5771 43.7372L18.1448 39.4154L17.7022 39.7534ZM3.48102 28.9281L1.53562 30.8735L1.22228 31.0465L0.0765686 32.3326L1.60579 30.9437L2.57849 29.971L3.48102 28.9281ZM0.953463 26.2027L19.5702 7.58594L9.31575 18.6078L0.953463 26.2027ZM23.7175 12.11L17.9339 18.0875L21.4622 14.5592L20.8074 15.4725L28.1915 7.95918L30.4791 5.54232L23.4224 12.599L23.7175 12.11ZM43.4641 43.1538L40.7872 46.1552L42.4907 44.4517L42.3285 45.0465L45.8166 41.3421L46.8441 40.0983L43.4371 43.5053L43.4641 43.1538ZM1.32715 48.3271L8.0918 41.5625L4.3657 45.5674L1.32715 48.3271ZM11.1479 31.2556L11.5689 30.975L11.3584 31.1855L11.1479 31.2556ZM11.9898 27.4667L12.2003 27.2562L11.7793 27.5369L11.9898 27.4667ZM11.3585 34.5531L11.148 34.7636L10.9375 34.8338L11.3585 34.5531ZM72.929 28.5457L82.2965 19.0792L81.4043 20.0705L86.4597 15.0811L78.2983 23.2425L75.8697 25.8362L72.1029 29.603L65.8249 35.881L69.3934 32.5437L64.5858 37.1531L57.994 43.745L65.7754 35.8314L70.17 31.4369L66.6015 34.7742L69.1623 32.3125L74.2507 27.3562L78.2653 23.2095L72.929 28.5457ZM82.6674 1.83549L84.3245 0.31872L83.3724 1.27088L82.6674 1.83549ZM64.5872 16.1312L62.9301 17.648L63.6351 17.0834L64.5872 16.1312ZM70.868 9.85044L80.0048 1.1214L74.6221 6.47142L70.868 9.85044ZM90.2409 41.9448L70.7578 61.4279L79.5093 53.4795L90.2409 41.9448ZM91.8088 42.5434L95.3963 38.8357L95.2132 39.139L99.5904 34.7618L98.1714 36.261L93.5912 40.9214L93.9973 40.3549L91.8088 42.5434ZM94.331 12.8233L89.9853 17.1691L89.2853 17.5555L86.7259 20.4284L90.142 17.3258L92.3149 15.1529L94.331 12.8233ZM44.7972 62.3259L76.9824 30.1406L59.2542 49.1955L44.7972 62.3259ZM77.1482 40.321L70.1709 47.5323L70 47.6463L70.0895 47.6164L68.1916 49.5779L70.185 47.5846L70.2105 47.5761L70.421 47.3656L70.37 47.3996L73.6557 44.1139L72.6416 45.5283L84.0768 33.893L87.6194 30.1502L76.6913 41.0783L77.1482 40.321ZM50.5355 34.3137L72.6617 12.1875L60.4955 25.3084L50.5355 34.3137ZM70.2104 44.0681L70.6314 43.7875L70.4209 43.998L70.2104 44.0681ZM71.263 40.0687L70.842 40.3494L71.0525 40.2792L71.263 40.0687ZM55.1084 12.4355L55.3189 12.225L54.8979 12.5056L55.1084 12.4355ZM48.8718 15.5785L60.2075 4.70496L49.4056 15.4006L48.8718 15.5785ZM23.7636 57.4491L29.9099 51.5854L26.1656 55.6123L27.2361 54.8244L23.435 58.6255L22.0681 59.9924L20.0562 62.0042L18.5082 63.8349L16.9601 65.6656L15.8328 66.2277L13.9315 67.7051L10.4821 71.0132L14.2832 67.2121L16.6775 65.383L21.1113 60.5253L20.477 60.7357L23.2937 58.4842L25.8277 55.9502L23.7636 57.4491ZM48.3825 74.1824L44.8832 77.8523L46.9145 75.8211L45.4748 77.4881L43.4493 79.2862L42.4082 80.1568L43.9215 79.0414L42.2487 80.7143L39.3752 83.8151L41.8844 81.3059L43.8473 79.6842L42.334 80.7995L44.7237 78.4098L46.1576 76.976L46.9713 75.8779L50.078 72.7713L48.1093 74.6262L48.3825 74.1824ZM29.2877 62.9906L29.0772 63.2011L28.8667 63.2713L29.2877 62.9906ZM29.7088 59.4823L29.9193 59.2719L29.4983 59.5525L29.7088 59.4823ZM29.0772 66.5687L28.8667 66.7792L28.6562 66.8494L29.0772 66.5687ZM22.9729 68.748L23.1834 68.5375L22.7624 68.8181L22.9729 68.748ZM3.8147e-05 91.7593L13.2499 79.1355L6.5001 86.2595L3.8147e-05 91.7593ZM16.0685 87.9974L17.1375 87.0687L16.5382 87.668L16.0685 87.9974ZM21.7869 79.3344L20.7179 80.263L21.1876 79.9337L21.7869 79.3344ZM12.3607 95.0755L13.4298 94.1469L12.8304 94.7462L12.3607 95.0755ZM42.7176 59.3801L43.2789 58.8187L43.0684 59.1696L42.7877 59.4502L42.2966 59.801L42.5772 59.3801H42.7176ZM26.3124 49.3152L24.3599 51.2676L23.996 51.3918L22.8956 52.732L24.4798 51.3875L25.456 50.4113L26.3124 49.3152ZM39.0689 63.3097L38.5777 63.6606L39.56 62.6782L39.0689 63.3097ZM20.3574 55.8032L19.3751 56.7856L19.8662 56.4347L20.3574 55.8032ZM39.9297 64.195L41.5504 62.3779L41.534 62.5907L43.5967 60.528L42.9746 61.2811L40.8628 63.5238L40.961 63.1637L39.9297 64.195ZM22.3921 55.457L21.3998 56.5696L22.0313 55.9381L21.9711 56.1587L23.2642 54.7854L23.6451 54.3243L22.3821 55.5873L22.3921 55.457ZM40.6473 92.4498L45.0485 88.0485L43.0066 90.4079L40.806 92.6085L37.3463 95.7507L39.9384 92.8412L40.6473 92.4498ZM18.5042 48.7973L11.5457 55.7558L10.4249 56.3746L6.32684 60.9746L11.7967 56.0067L15.2759 52.5275L18.5042 48.7973ZM32.7113 78.139L31.1131 79.7372L30.8432 79.8668L29.9145 80.9358L31.1833 79.8074L31.9823 79.0083L32.7113 78.139ZM21.7577 93.9525L31.2855 84.0344L30.8324 84.8777L42.4999 73.2102L38.7408 77.2295L26.5552 89.6753L27.5914 88.1187L21.7577 93.9525ZM98.5132 90.0591L89.9224 97.9224L93.5769 94.9953L98.5132 90.0591ZM97.8456 80.2105L99.5027 78.6937L98.5506 79.6459L97.8456 80.2105ZM88.5656 56.4599L78.9205 65.7009L82.1262 63.3036L78.1413 67.2885L73.7522 70.8692L74.7195 70.5082L67.717 78.117L63.992 81.0336L58.0146 87.011L63.4289 81.7988L66.3887 79.4454L68.1212 78.5213L70.5757 75.6625L73.0302 72.8038L76.194 69.64L78.3434 67.4906L84.3208 61.5132L82.6575 62.7723L88.5656 56.4599ZM85.1893 67.0375L83.7304 68.356L84.3561 67.8707L85.1893 67.0375ZM90.7969 58.2022L99.2725 50.5418L94.4317 55.3826L90.7969 58.2022ZM79.377 76.2172L77.9182 77.5357L78.5438 77.0504L79.377 76.2172ZM59.4922 91.7253L56.4011 94.1231L60.0049 90.8659L63.6087 87.6087L59.4922 91.7253ZM63.8833 75.4153L46 92.3896L49.6884 89.1193L53.3767 85.8491L63.8833 75.4153ZM71.6063 55.0765L69.6609 57.0219L69.3475 57.1949L68.2018 58.481L69.731 57.0921L70.7037 56.1194L71.6063 55.0765ZM55.1405 71.6857L61.4131 65.4131L57.958 69.1267L55.1405 71.6857ZM65.8396 69.4497L61.7138 73.7138L64.2308 71.1968L63.7637 71.8484L69.0313 66.4886L70.6632 64.7645L65.6292 69.7985L65.8396 69.4497ZM53.0034 65.4955L58.2258 59.8914L58.0558 60.4431L64.5517 53.9472L62.5136 56.2398L55.7841 63.2238L56.2513 62.2475L53.0034 65.4955ZM97.0997 71.2032L79.6514 88.6515L86.7697 80.814L97.0997 71.2032ZM35.1848 56.2513L31.93 59.9006L34.0012 57.8294L33.804 58.5527L38.0451 54.0485L39.2945 52.5361L35.1519 56.6787L35.1848 56.2513ZM66.8712 26.2471L78.1907 14.3099L77.7244 15.394L91.6784 1.4399L87.233 6.29715L72.7096 21.2323L73.8482 19.2701L66.8712 26.2471ZM28.0473 68.2068L20.4355 76.375L25.1695 71.641L24.4884 73.0639L34.297 62.8844L37.2675 59.5429L27.7995 69.0109L28.0473 68.2068ZM8.94067 39.5658L14.1631 33.9617L13.993 34.5134L20.4889 28.0175L18.4509 30.3101L11.7213 37.2941L12.1886 36.3178L8.94067 39.5658ZM99.7403 26L88 37.7404L93.2735 32.9508L99.7403 26ZM1.93388 8.08743L4.77765 5.04974L4.67856 5.34275L8.20743 1.81388L7.09578 3.05481L3.4355 6.84437L3.69832 6.32299L1.93388 8.08743ZM54.4485 44.211L48.5985 50.061L47.6563 50.5813L44.211 54.4485L48.8095 50.272L51.7345 47.347L54.4485 44.211Z\" />\n",
       "</pattern>\n",
       "<pattern id=\"streaks-darker-d2-3887551032\" x=\"0\" y=\"0\" width=\"100\" height=\"100\" patternUnits=\"userSpaceOnUse\">\n",
       "    <path fill=\"rgba(255, 255, 255, 0.24)\" fill-rule=\"evenodd\" clip-rule=\"evenodd\" d=\"M58.1193 0H58.1703L55.4939 2.67644L58.1193 0ZM45.7725 0H45.811L41.2851 4.61498L42.7191 3.29325L37.0824 8.92997L35.0554 10.9569L32.0719 13.9404L29.6229 16.5017L27.1738 19.0631L25.8089 20.2034L23.2195 22.6244L18.181 27.6068L23.8178 21.97L27.0615 18.9508L33.8666 11.9773L33.1562 12.5194L37.0262 8.87383L40.784 5.11602L38.0299 7.64561L45.7725 0ZM23.1079 0H23.108L21.5814 1.66688L20.3126 2.79534L23.1079 0ZM7.53869 0H7.54254L7.50005 0.035944L7.53869 0ZM2.49995 0H2.52362L0.900245 1.59971L2.49995 0ZM0 3.64398V3.60744L0.278386 3.36559L0 3.64398ZM0 18.6564V18.5398L0.67985 17.8416L3.4459 15.0755L1.15701 17.1333L2.78713 15.6022L6.01437 12.507L8.5168 9.87253L5.15803 13.2313L11.0357 7.25453L10.4926 7.89678L13.6868 4.7686L8.54982 9.90555L7.05177 11.5687L4.68087 13.9396L0.729379 17.8911L3.01827 15.8333L0 18.6564ZM0 69.2431V69.178L1.64651 67.4763L1.46347 67.7796L5.84063 63.4025L4.42167 64.9016L0 69.4007V69.3408L0.247596 68.9955L0 69.2431ZM2.51594 100H2.49238L5.19989 97.2925L7.70071 95.0162L12.8713 89.6772L12.3094 90.0707L15.288 87.3167L18.1542 84.4504L16.0269 86.3532L22.8752 79.6172L18.5364 84.0683L19.6435 83.0734L15.3441 87.3728L13.798 88.9189L11.5224 91.1945L9.66768 93.1615L7.81297 95.1285L6.74529 95.9716L4.75024 97.7983L2.51594 100ZM7.54255 100H7.5387L9.81396 97.884L8.46606 99.2189L7.54255 100ZM45.8189 100H45.7807L46.9912 98.8047L45.8189 100ZM58.1784 100H58.1272L62.2952 95.7511L66.1408 91.9055L63.0037 94.8115L65.2507 92.6635L69.7117 88.3346L73.2165 84.6977L68.5469 89.3673L76.7379 81.0773L75.9634 81.9509L80.3913 77.5889L73.2496 84.7307L71.1346 87.0107L67.8384 90.3069L62.3447 95.8006L65.4818 92.8947L61.2625 96.9159L58.1784 100ZM75.4277 100H75.229L82.1834 92.9039L81.3403 93.5787L86.0063 89.1371L90.5601 84.5833L87.2464 87.6725L98.0937 76.9375L91.1673 83.9761L92.8932 82.3625L86.0625 89.1933L83.6062 91.6496L79.9907 95.265L77.011 98.357L75.4277 100ZM100 18.5398V18.6563L99.9556 18.6979L95.8065 22.847L100 18.5398ZM100 3.60743V3.64398L99.6791 3.9649L99.2094 4.29428L100 3.60743ZM75.4201 0L74.0312 1.4412L72.401 2.84687L69.281 5.79854L63.1812 11.8422L70.0119 5.01151L73.919 1.32893L75.2214 0H75.4201ZM100 69.1858V69.2509L98.059 71.1919L100 69.1858ZM100 69.3486V69.4085L99.8414 69.5698L100 69.3486ZM41.9398 28.8254L53.6223 16.993L52.5215 18.2437L54.7428 16.0575L54.6875 16.0759L54.8008 16.0004L58.842 12.0231L54.9925 15.8726L55.1085 15.7953L54.898 16.0058L54.84 16.0251L48.6523 22.2128L45.6419 25.473L40.9389 30.1759L33.1007 38.0142L37.5866 33.878L31.558 39.6068L23.3278 47.837L33.0257 37.9393L38.5125 32.4525L34.0266 36.5887L37.2369 33.5283L43.6074 27.3576L48.6023 22.1628L41.9398 28.8254ZM41.0977 17.0531L39.718 18.2925L40.312 17.8388L41.0977 17.0531ZM36.875 20.3106L48.1601 7.88137L42.3438 13.7478L36.875 20.3106ZM35.7125 25.8109L34.3328 27.0503L34.9268 26.5966L35.7125 25.8109ZM17.7022 39.7534L19.0819 38.514L18.8092 38.7867L36.7575 21.8045L23.1569 35.3051L13.5771 43.7372L18.1448 39.4154L17.7022 39.7534ZM3.48102 28.9281L1.53562 30.8735L1.22228 31.0465L0.0765686 32.3326L1.60579 30.9437L2.57849 29.971L3.48102 28.9281ZM0.953463 26.2027L19.5702 7.58594L9.31575 18.6078L0.953463 26.2027ZM23.7175 12.11L17.9339 18.0875L21.4622 14.5592L20.8074 15.4725L28.1915 7.95918L30.4791 5.54232L23.4224 12.599L23.7175 12.11ZM43.4641 43.1538L40.7872 46.1552L42.4907 44.4517L42.3285 45.0465L45.8166 41.3421L46.8441 40.0983L43.4371 43.5053L43.4641 43.1538ZM1.32715 48.3271L8.0918 41.5625L4.3657 45.5674L1.32715 48.3271ZM11.1479 31.2556L11.5689 30.975L11.3584 31.1855L11.1479 31.2556ZM11.9898 27.4667L12.2003 27.2562L11.7793 27.5369L11.9898 27.4667ZM11.3585 34.5531L11.148 34.7636L10.9375 34.8338L11.3585 34.5531ZM72.929 28.5457L82.2965 19.0792L81.4043 20.0705L86.4597 15.0811L78.2983 23.2425L75.8697 25.8362L72.1029 29.603L65.8249 35.881L69.3934 32.5437L64.5858 37.1531L57.994 43.745L65.7754 35.8314L70.17 31.4369L66.6015 34.7742L69.1623 32.3125L74.2507 27.3562L78.2653 23.2095L72.929 28.5457ZM82.6674 1.83549L84.3245 0.31872L83.3724 1.27088L82.6674 1.83549ZM64.5872 16.1312L62.9301 17.648L63.6351 17.0834L64.5872 16.1312ZM70.868 9.85044L80.0048 1.1214L74.6221 6.47142L70.868 9.85044ZM90.2409 41.9448L70.7578 61.4279L79.5093 53.4795L90.2409 41.9448ZM91.8088 42.5434L95.3963 38.8357L95.2132 39.139L99.5904 34.7618L98.1714 36.261L93.5912 40.9214L93.9973 40.3549L91.8088 42.5434ZM94.331 12.8233L89.9853 17.1691L89.2853 17.5555L86.7259 20.4284L90.142 17.3258L92.3149 15.1529L94.331 12.8233ZM44.7972 62.3259L76.9824 30.1406L59.2542 49.1955L44.7972 62.3259ZM77.1482 40.321L70.1709 47.5323L70 47.6463L70.0895 47.6164L68.1916 49.5779L70.185 47.5846L70.2105 47.5761L70.421 47.3656L70.37 47.3996L73.6557 44.1139L72.6416 45.5283L84.0768 33.893L87.6194 30.1502L76.6913 41.0783L77.1482 40.321ZM50.5355 34.3137L72.6617 12.1875L60.4955 25.3084L50.5355 34.3137ZM70.2104 44.0681L70.6314 43.7875L70.4209 43.998L70.2104 44.0681ZM71.263 40.0687L70.842 40.3494L71.0525 40.2792L71.263 40.0687ZM55.1084 12.4355L55.3189 12.225L54.8979 12.5056L55.1084 12.4355ZM48.8718 15.5785L60.2075 4.70496L49.4056 15.4006L48.8718 15.5785ZM23.7636 57.4491L29.9099 51.5854L26.1656 55.6123L27.2361 54.8244L23.435 58.6255L22.0681 59.9924L20.0562 62.0042L18.5082 63.8349L16.9601 65.6656L15.8328 66.2277L13.9315 67.7051L10.4821 71.0132L14.2832 67.2121L16.6775 65.383L21.1113 60.5253L20.477 60.7357L23.2937 58.4842L25.8277 55.9502L23.7636 57.4491ZM48.3825 74.1824L44.8832 77.8523L46.9145 75.8211L45.4748 77.4881L43.4493 79.2862L42.4082 80.1568L43.9215 79.0414L42.2487 80.7143L39.3752 83.8151L41.8844 81.3059L43.8473 79.6842L42.334 80.7995L44.7237 78.4098L46.1576 76.976L46.9713 75.8779L50.078 72.7713L48.1093 74.6262L48.3825 74.1824ZM29.2877 62.9906L29.0772 63.2011L28.8667 63.2713L29.2877 62.9906ZM29.7088 59.4823L29.9193 59.2719L29.4983 59.5525L29.7088 59.4823ZM29.0772 66.5687L28.8667 66.7792L28.6562 66.8494L29.0772 66.5687ZM22.9729 68.748L23.1834 68.5375L22.7624 68.8181L22.9729 68.748ZM3.8147e-05 91.7593L13.2499 79.1355L6.5001 86.2595L3.8147e-05 91.7593ZM16.0685 87.9974L17.1375 87.0687L16.5382 87.668L16.0685 87.9974ZM21.7869 79.3344L20.7179 80.263L21.1876 79.9337L21.7869 79.3344ZM12.3607 95.0755L13.4298 94.1469L12.8304 94.7462L12.3607 95.0755ZM42.7176 59.3801L43.2789 58.8187L43.0684 59.1696L42.7877 59.4502L42.2966 59.801L42.5772 59.3801H42.7176ZM26.3124 49.3152L24.3599 51.2676L23.996 51.3918L22.8956 52.732L24.4798 51.3875L25.456 50.4113L26.3124 49.3152ZM39.0689 63.3097L38.5777 63.6606L39.56 62.6782L39.0689 63.3097ZM20.3574 55.8032L19.3751 56.7856L19.8662 56.4347L20.3574 55.8032ZM39.9297 64.195L41.5504 62.3779L41.534 62.5907L43.5967 60.528L42.9746 61.2811L40.8628 63.5238L40.961 63.1637L39.9297 64.195ZM22.3921 55.457L21.3998 56.5696L22.0313 55.9381L21.9711 56.1587L23.2642 54.7854L23.6451 54.3243L22.3821 55.5873L22.3921 55.457ZM40.6473 92.4498L45.0485 88.0485L43.0066 90.4079L40.806 92.6085L37.3463 95.7507L39.9384 92.8412L40.6473 92.4498ZM18.5042 48.7973L11.5457 55.7558L10.4249 56.3746L6.32684 60.9746L11.7967 56.0067L15.2759 52.5275L18.5042 48.7973ZM32.7113 78.139L31.1131 79.7372L30.8432 79.8668L29.9145 80.9358L31.1833 79.8074L31.9823 79.0083L32.7113 78.139ZM21.7577 93.9525L31.2855 84.0344L30.8324 84.8777L42.4999 73.2102L38.7408 77.2295L26.5552 89.6753L27.5914 88.1187L21.7577 93.9525ZM98.5132 90.0591L89.9224 97.9224L93.5769 94.9953L98.5132 90.0591ZM97.8456 80.2105L99.5027 78.6937L98.5506 79.6459L97.8456 80.2105ZM88.5656 56.4599L78.9205 65.7009L82.1262 63.3036L78.1413 67.2885L73.7522 70.8692L74.7195 70.5082L67.717 78.117L63.992 81.0336L58.0146 87.011L63.4289 81.7988L66.3887 79.4454L68.1212 78.5213L70.5757 75.6625L73.0302 72.8038L76.194 69.64L78.3434 67.4906L84.3208 61.5132L82.6575 62.7723L88.5656 56.4599ZM85.1893 67.0375L83.7304 68.356L84.3561 67.8707L85.1893 67.0375ZM90.7969 58.2022L99.2725 50.5418L94.4317 55.3826L90.7969 58.2022ZM79.377 76.2172L77.9182 77.5357L78.5438 77.0504L79.377 76.2172ZM59.4922 91.7253L56.4011 94.1231L60.0049 90.8659L63.6087 87.6087L59.4922 91.7253ZM63.8833 75.4153L46 92.3896L49.6884 89.1193L53.3767 85.8491L63.8833 75.4153ZM71.6063 55.0765L69.6609 57.0219L69.3475 57.1949L68.2018 58.481L69.731 57.0921L70.7037 56.1194L71.6063 55.0765ZM55.1405 71.6857L61.4131 65.4131L57.958 69.1267L55.1405 71.6857ZM65.8396 69.4497L61.7138 73.7138L64.2308 71.1968L63.7637 71.8484L69.0313 66.4886L70.6632 64.7645L65.6292 69.7985L65.8396 69.4497ZM53.0034 65.4955L58.2258 59.8914L58.0558 60.4431L64.5517 53.9472L62.5136 56.2398L55.7841 63.2238L56.2513 62.2475L53.0034 65.4955ZM97.0997 71.2032L79.6514 88.6515L86.7697 80.814L97.0997 71.2032ZM35.1848 56.2513L31.93 59.9006L34.0012 57.8294L33.804 58.5527L38.0451 54.0485L39.2945 52.5361L35.1519 56.6787L35.1848 56.2513ZM66.8712 26.2471L78.1907 14.3099L77.7244 15.394L91.6784 1.4399L87.233 6.29715L72.7096 21.2323L73.8482 19.2701L66.8712 26.2471ZM28.0473 68.2068L20.4355 76.375L25.1695 71.641L24.4884 73.0639L34.297 62.8844L37.2675 59.5429L27.7995 69.0109L28.0473 68.2068ZM8.94067 39.5658L14.1631 33.9617L13.993 34.5134L20.4889 28.0175L18.4509 30.3101L11.7213 37.2941L12.1886 36.3178L8.94067 39.5658ZM99.7403 26L88 37.7404L93.2735 32.9508L99.7403 26ZM1.93388 8.08743L4.77765 5.04974L4.67856 5.34275L8.20743 1.81388L7.09578 3.05481L3.4355 6.84437L3.69832 6.32299L1.93388 8.08743ZM54.4485 44.211L48.5985 50.061L47.6563 50.5813L44.211 54.4485L48.8095 50.272L51.7345 47.347L54.4485 44.211Z\" />\n",
       "</pattern>\n",
       "</defs><g class=\"MDE5NTkwMDAtNjUxOS0xMmRiLTY3MjEtYWVlMzc4ZDFmNzdh\"><g class=\"shape\" ><path d=\"M-1.600310 -0.578379 L381.045551 1.811030 L380.253697 64.234072 L0.925556 67.532483\" transform=\"translate(0.000000 166.000000)\" stroke=\"#3f4b40\" fill=\"#F0FFF0\" class=\"shape\" style=\"stroke-width:2;\" /><path d=\"M0.514315 0.578282 C75.809872 -0.226191, 151.667370 -1.962048, 379.523882 0.235381 M-0.389166 0.158745 C84.377368 -1.480280, 168.279268 -1.822055, 379.651804 0.451651 M381.536704 -1.749433 C380.489431 15.585410, 381.180967 27.069513, 381.390547 65.130645 M380.297677 -0.799274 C380.657560 16.854002, 379.681091 35.455552, 380.406876 66.352243 M380.631628 65.871946 C298.662664 70.394838, 215.078846 70.068750, 1.101782 65.757906 M379.433991 65.913767 C237.100498 66.680168, 94.783950 66.517303, 0.563322 66.025104 M-0.720604 65.718532 C0.302797 45.542204, -1.429636 28.321166, 0.591800 -1.206080 M0.217956 66.998223 C-1.587850 41.337487, -1.081795 17.082362, 0.440740 0.988030\" transform=\"translate(0.000000 166.000000)\" stroke=\"#3f4b40\" fill=\"#F0FFF0\" class=\"shape\" style=\"stroke-width:2;\" /><rect width=\"380.000000\" height=\"66.000000\" transform=\"translate(0.000000 166.000000)\" class=\" sketch-overlay-bright\" /></g><text x=\"190.000000\" y=\"204.500000\" fill=\"#000000\" class=\"text-bold\" style=\"text-anchor:middle;font-size:16px\">DownloadImage(&#39;man_with_camera.jpg&#39;)</text></g><g class=\"MDE5NTkwMDAtNTZhNy04NmJmLTRiNmMtYjU0NDYxNTFiYTdj\"><g class=\"shape\" ><path d=\"M-1.600310 -0.578379 L227.045551 1.811030 L226.253697 64.234072 L0.925556 67.532483\" transform=\"translate(466.000000 0.000000)\" stroke=\"#3f4b40\" fill=\"#F0FFF0\" class=\"shape\" style=\"stroke-width:2;\" /><path d=\"M0.734363 0.825699 C44.927102 0.211730, 89.922209 -2.266809, 225.320177 0.336089 M-0.555671 0.226665 C50.401978 -0.974558, 100.125061 -1.462561, 225.502829 0.644890 M227.536704 -1.749433 C226.489431 15.585410, 227.180967 27.069513, 227.390547 65.130645 M226.297677 -0.799274 C226.657560 16.854002, 225.681091 35.455552, 226.406876 66.352243 M226.901869 65.817159 C178.140723 69.665055, 127.073811 69.199452, 1.573177 65.654326 M225.191825 65.876873 C140.968480 66.669182, 56.769329 66.436636, 0.804339 66.035845 M-0.720604 65.718532 C0.302797 45.542204, -1.429636 28.321166, 0.591800 -1.206080 M0.217956 66.998223 C-1.587850 41.337487, -1.081795 17.082362, 0.440740 0.988030\" transform=\"translate(466.000000 0.000000)\" stroke=\"#3f4b40\" fill=\"#F0FFF0\" class=\"shape\" style=\"stroke-width:2;\" /><rect width=\"226.000000\" height=\"66.000000\" transform=\"translate(466.000000 0.000000)\" class=\" sketch-overlay-bright\" /></g><text x=\"579.000000\" y=\"38.500000\" fill=\"#000000\" class=\"text-bold\" style=\"text-anchor:middle;font-size:16px\">DownloadImages(n=3)</text></g><g class=\"MDE5NTkwMDAtNjUxOS0xOGYwLTU2ZDEtOWYxYjZkOTYxYzc3\"><g class=\"shape\" ><path d=\"M-1.600310 -0.578379 L278.045551 1.811030 L277.253697 64.234072 L0.925556 67.532483\" transform=\"translate(440.000000 166.000000)\" stroke=\"#3f4b40\" fill=\"#F0FFF0\" class=\"shape\" style=\"stroke-width:2;\" /><path d=\"M0.661490 0.743762 C55.154513 0.031216, 110.370282 -2.201370, 276.387638 0.302738 M-0.500530 0.204172 C61.653568 -1.217637, 122.695611 -1.657213, 276.552165 0.580895 M278.536704 -1.749433 C277.489431 15.585410, 278.180967 27.069513, 278.390547 65.130645 M277.297677 -0.799274 C277.657560 16.854002, 276.681091 35.455552, 277.406876 66.352243 M277.812373 65.835303 C218.053833 70.079970, 156.218336 69.660569, 1.417065 65.688629 M276.272023 65.889092 C172.804408 66.692864, 69.358587 66.483394, 0.724522 66.032288 M-0.720604 65.718532 C0.302797 45.542204, -1.429636 28.321166, 0.591800 -1.206080 M0.217956 66.998223 C-1.587850 41.337487, -1.081795 17.082362, 0.440740 0.988030\" transform=\"translate(440.000000 166.000000)\" stroke=\"#3f4b40\" fill=\"#F0FFF0\" class=\"shape\" style=\"stroke-width:2;\" /><rect width=\"277.000000\" height=\"66.000000\" transform=\"translate(440.000000 166.000000)\" class=\" sketch-overlay-bright\" /></g><text x=\"578.500000\" y=\"204.500000\" fill=\"#000000\" class=\"text-bold\" style=\"text-anchor:middle;font-size:16px\">DownloadImage(&#39;library.jpg&#39;)</text></g><g class=\"MDE5NTkwMDAtNjUxOS00NWYxLWIyNzYtMDRlYTIwMjdjMGFl\"><g class=\"shape\" ><path d=\"M-1.600310 -0.578379 L325.045551 1.811030 L324.253697 64.234072 L0.925556 67.532483\" transform=\"translate(777.000000 166.000000)\" stroke=\"#3f4b40\" fill=\"#F0FFF0\" class=\"shape\" style=\"stroke-width:2;\" /><path d=\"M0.594332 0.668252 C64.579774 -0.104023, 129.214584 -2.109946, 323.449808 0.272002 M-0.449713 0.183443 C72.022681 -1.375363, 143.495920 -1.770312, 323.597631 0.521920 M325.536704 -1.749433 C324.489431 15.585410, 325.180967 27.069513, 325.390547 65.130645 M324.297677 -0.799274 C324.657560 16.854002, 323.681091 35.455552, 324.406876 66.352243 M324.729897 65.852023 C254.836504 70.310445, 183.077015 69.933625, 1.273198 65.720240 M323.345931 65.900351 C202.143401 66.697113, 80.960452 66.508909, 0.650965 66.029010 M-0.720604 65.718532 C0.302797 45.542204, -1.429636 28.321166, 0.591800 -1.206080 M0.217956 66.998223 C-1.587850 41.337487, -1.081795 17.082362, 0.440740 0.988030\" transform=\"translate(777.000000 166.000000)\" stroke=\"#3f4b40\" fill=\"#F0FFF0\" class=\"shape\" style=\"stroke-width:2;\" /><rect width=\"324.000000\" height=\"66.000000\" transform=\"translate(777.000000 166.000000)\" class=\" sketch-overlay-bright\" /></g><text x=\"939.000000\" y=\"204.500000\" fill=\"#000000\" class=\"text-bold\" style=\"text-anchor:middle;font-size:16px\">DownloadImage(&#39;office_desk.jpg&#39;)</text></g><g class=\"KDAxOTU5MDAwLTU2YTctODZiZi00YjZjLWI1NDQ2MTUxYmE3YyAtJmd0OyAwMTk1OTAwMC02NTE5LTEyZGItNjcyMS1hZWUzNzhkMWY3N2EpWzBd\"><marker id=\"mk-d2-3887551032-610491744\" markerWidth=\"10.000000\" markerHeight=\"12.000000\" refX=\"7.000000\" refY=\"6.000000\" viewBox=\"0.000000 0.000000 10.000000 12.000000\" orient=\"auto\" markerUnits=\"userSpaceOnUse\"> <polygon points=\"0.000000,0.000000 10.000000,6.000000 0.000000,12.000000\" fill=\"#170206\" class=\"connection\" stroke-width=\"2\" /> </marker><path d=\"M462.544182 56.728920 M462.544182 56.728920 C245.581948 104.068120, 190.581585 125.719938, 190.202656 162.428631 M461.679100 56.332123 C244.814649 104.767641, 189.189168 126.330748, 190.245209 161.016898\" stroke=\"#170206\" fill=\"none\" class=\"connection\" style=\"stroke-width:2;\" mask=\"url(#d2-3887551032)\" /><path d=\"M-8.527627 -3.097061 L1.749550 0.558791 L-8.562935 4.521533\" stroke=\"none\" fill=\"#170206\" class=\"connection\" style=\"stroke-width:0;\" transform=\"translate(190.000000 162.000000) rotate(90.00000250447816)\" /> <path d=\"M-10.153731 -4.038897 C-7.293657 -2.964754, -5.552453 -3.126871, 0.222305 -0.654474 M-10.160117 -4.253535 C-7.616436 -2.677663, -5.569656 -2.320404, -0.086565 0.272291 M0.578048 -0.807164 C-2.240460 1.133634, -3.845699 1.135504, -9.579367 4.140709 M-0.217907 -0.322328 C-3.660571 0.941126, -7.003142 2.167050, -10.100296 3.840861 M-9.957758 4.629247 C-9.937438 2.794817, -10.508655 0.509238, -9.330834 -3.522818 M-10.354741 4.285014 C-9.712366 0.996453, -9.805329 -1.235319, -9.648840 -4.366524\" stroke=\"#170206\" fill=\"none\" class=\"connection\" style=\"stroke-width:2;\" transform=\"translate(190.000000 162.000000) rotate(90.00000250447816)\" /></g><g class=\"KDAxOTU5MDAwLTU2YTctODZiZi00YjZjLWI1NDQ2MTUxYmE3YyAtJmd0OyAwMTk1OTAwMC02NTE5LTE4ZjAtNTZkMS05ZjFiNmQ5NjFjNzcpWzBd\"><path d=\"M577.500044 67.170064 M577.500044 67.170064 C578.981942 105.840123, 579.081585 125.719938, 578.702656 162.428631 M576.634962 66.773267 C578.214643 106.539644, 577.689168 126.330748, 578.745209 161.016898\" stroke=\"#170206\" fill=\"none\" class=\"connection\" style=\"stroke-width:2;\" mask=\"url(#d2-3887551032)\" /><path d=\"M-8.527627 -3.097061 L1.749550 0.558791 L-8.562935 4.521533\" stroke=\"none\" fill=\"#170206\" class=\"connection\" style=\"stroke-width:0;\" transform=\"translate(578.500000 162.000000) rotate(90.00000250447816)\" /> <path d=\"M-10.153731 -4.038897 C-7.293657 -2.964754, -5.552453 -3.126871, 0.222305 -0.654474 M-10.160117 -4.253535 C-7.616436 -2.677663, -5.569656 -2.320404, -0.086565 0.272291 M0.578048 -0.807164 C-2.240460 1.133634, -3.845699 1.135504, -9.579367 4.140709 M-0.217907 -0.322328 C-3.660571 0.941126, -7.003142 2.167050, -10.100296 3.840861 M-9.957758 4.629247 C-9.937438 2.794817, -10.508655 0.509238, -9.330834 -3.522818 M-10.354741 4.285014 C-9.712366 0.996453, -9.805329 -1.235319, -9.648840 -4.366524\" stroke=\"#170206\" fill=\"none\" class=\"connection\" style=\"stroke-width:2;\" transform=\"translate(578.500000 162.000000) rotate(90.00000250447816)\" /></g><g class=\"KDAxOTU5MDAwLTU2YTctODZiZi00YjZjLWI1NDQ2MTUxYmE3YyAtJmd0OyAwMTk1OTAwMC02NTE5LTQ1ZjEtYjI3Ni0wNGVhMjAyN2MwYWUpWzBd\"><path d=\"M693.448655 58.636526 M693.448655 58.636526 C890.181954 104.443120, 939.581585 125.719938, 939.202656 162.428631 M692.583573 58.239729 C889.414655 105.142641, 938.189168 126.330748, 939.245209 161.016898\" stroke=\"#170206\" fill=\"none\" class=\"connection\" style=\"stroke-width:2;\" mask=\"url(#d2-3887551032)\" /><path d=\"M-8.527627 -3.097061 L1.749550 0.558791 L-8.562935 4.521533\" stroke=\"none\" fill=\"#170206\" class=\"connection\" style=\"stroke-width:0;\" transform=\"translate(939.000000 162.000000) rotate(90.00000250447816)\" /> <path d=\"M-10.153731 -4.038897 C-7.293657 -2.964754, -5.552453 -3.126871, 0.222305 -0.654474 M-10.160117 -4.253535 C-7.616436 -2.677663, -5.569656 -2.320404, -0.086565 0.272291 M0.578048 -0.807164 C-2.240460 1.133634, -3.845699 1.135504, -9.579367 4.140709 M-0.217907 -0.322328 C-3.660571 0.941126, -7.003142 2.167050, -10.100296 3.840861 M-9.957758 4.629247 C-9.937438 2.794817, -10.508655 0.509238, -9.330834 -3.522818 M-10.354741 4.285014 C-9.712366 0.996453, -9.805329 -1.235319, -9.648840 -4.366524\" stroke=\"#170206\" fill=\"none\" class=\"connection\" style=\"stroke-width:2;\" transform=\"translate(939.000000 162.000000) rotate(90.00000250447816)\" /></g><mask id=\"d2-3887551032\" maskUnits=\"userSpaceOnUse\" x=\"-6\" y=\"-6\" width=\"1113\" height=\"244\">\n",
       "<rect x=\"-6\" y=\"-6\" width=\"1113\" height=\"244\" fill=\"white\"></rect>\n",
       "<rect x=\"22.500000\" y=\"188.500000\" width=\"335\" height=\"21\" fill=\"rgba(0,0,0,0.75)\"></rect>\n",
       "<rect x=\"488.500000\" y=\"22.500000\" width=\"181\" height=\"21\" fill=\"rgba(0,0,0,0.75)\"></rect>\n",
       "<rect x=\"462.500000\" y=\"188.500000\" width=\"232\" height=\"21\" fill=\"rgba(0,0,0,0.75)\"></rect>\n",
       "<rect x=\"799.500000\" y=\"188.500000\" width=\"279\" height=\"21\" fill=\"rgba(0,0,0,0.75)\"></rect>\n",
       "</mask></svg></svg>"
      ],
      "text/plain": [
       "<IPython.core.display.HTML object>"
      ]
     },
     "metadata": {},
     "output_type": "display_data"
    }
   ],
   "source": [
    "job_client.display(job)"
   ]
  },
  {
   "cell_type": "markdown",
   "id": "788d6691",
   "metadata": {},
   "source": [
    "We see that DownloadImages has three sub-tasks without dependencies between each other. Green nodes are tasks that have been executed successfully, light red nodes are scheduled.\n",
    "\n",
    "For more advanced examples take a look at sibling folders of this one, advanced topics include\n",
    "\n",
    "- Task dependencies\n",
    "- Automatic parallelization and load-balancing\n",
    "- Task and job retries\n",
    "- Automations – jobs that get triggered by events\n",
    "- Multi-cluster workflows\n",
    "- Multi-language workflows"
   ]
  }
 ],
 "metadata": {
  "kernelspec": {
   "display_name": "Python 3 (ipykernel)",
   "language": "python",
   "name": "python3"
  },
  "language_info": {
   "codemirror_mode": {
    "name": "ipython",
    "version": 3
   },
   "file_extension": ".py",
   "mimetype": "text/x-python",
   "name": "python",
   "nbconvert_exporter": "python",
   "pygments_lexer": "ipython3",
   "version": "3.13.1"
  }
 },
 "nbformat": 4,
 "nbformat_minor": 5
}
